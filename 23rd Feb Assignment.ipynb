{
 "cells": [
  {
   "cell_type": "markdown",
   "id": "056576d1-e0a8-4193-b5ca-180ae0abe6df",
   "metadata": {},
   "source": [
    "# Assignment"
   ]
  },
  {
   "cell_type": "markdown",
   "id": "70ca72dd-7d46-4f89-87de-565047627f91",
   "metadata": {},
   "source": [
    "## 1.Create a Pandas Series that contains the following data: 4, 8, 15, 16, 23, and 42. Then, print the series."
   ]
  },
  {
   "cell_type": "code",
   "execution_count": 1,
   "id": "02fd86ed-5d7d-41fc-bd23-4d49bfc97098",
   "metadata": {},
   "outputs": [
    {
     "name": "stdout",
     "output_type": "stream",
     "text": [
      "0     4\n",
      "1     8\n",
      "2    15\n",
      "3    16\n",
      "4    23\n",
      "5    42\n",
      "dtype: int64\n"
     ]
    }
   ],
   "source": [
    "import pandas as pd\n",
    "\n",
    "series = pd.Series([4, 8, 15, 16, 23, 42])\n",
    "\n",
    "print(series)\n"
   ]
  },
  {
   "cell_type": "markdown",
   "id": "d8c70b52-d043-4f79-ac90-23cc7013ae0f",
   "metadata": {},
   "source": [
    "## 2.Create a variable of list type containing 10 elements in it, and apply pandas.Series function on the variable print it."
   ]
  },
  {
   "cell_type": "code",
   "execution_count": 2,
   "id": "ffaba0d8-f680-49ac-b711-c3e2b2c2851f",
   "metadata": {},
   "outputs": [
    {
     "name": "stdout",
     "output_type": "stream",
     "text": [
      "0     10\n",
      "1     20\n",
      "2     30\n",
      "3     40\n",
      "4     50\n",
      "5     60\n",
      "6     70\n",
      "7     80\n",
      "8     90\n",
      "9    100\n",
      "dtype: int64\n"
     ]
    }
   ],
   "source": [
    "import pandas as pd\n",
    "\n",
    "my_list = [10, 20, 30, 40, 50, 60, 70, 80, 90, 100]\n",
    "\n",
    "series = pd.Series(my_list)\n",
    "\n",
    "print(series)\n"
   ]
  },
  {
   "cell_type": "markdown",
   "id": "906d5a54-1289-4f28-992b-9cb4b86dbf41",
   "metadata": {
    "tags": []
   },
   "source": [
    "## 3.Create a Pandas DataFrame that contains the following data:\n",
    " \n",
    " \n",
    "      Name              Age           Gender\n",
    " \n",
    "      Alice              25            Female\n",
    "      Bob                30            Male\n",
    "      Claire             27            Female\n",
    "\n",
    "\n",
    "Then, print the DataFrame."
   ]
  },
  {
   "cell_type": "code",
   "execution_count": 3,
   "id": "2e4ebbc3-5913-4c89-8d9d-26699a7bfa15",
   "metadata": {},
   "outputs": [
    {
     "name": "stdout",
     "output_type": "stream",
     "text": [
      "     Name  Age  Gender\n",
      "0   Alice   25  Female\n",
      "1     Bob   30    Male\n",
      "2  Claire   27  Female\n"
     ]
    }
   ],
   "source": [
    "import pandas as pd\n",
    "\n",
    "data = {\n",
    "    'Name': ['Alice', 'Bob', 'Claire'],\n",
    "    'Age': [25, 30, 27],\n",
    "    'Gender': ['Female', 'Male', 'Female']\n",
    "}\n",
    "\n",
    "df = pd.DataFrame(data)\n",
    "\n",
    "print(df)"
   ]
  },
  {
   "cell_type": "markdown",
   "id": "1e93d692-167b-4339-8a2a-9c0e82884123",
   "metadata": {},
   "source": [
    "## 4.What is ‘DataFrame’ in pandas and how is it different from pandas.series? Explain with an example."
   ]
  },
  {
   "cell_type": "markdown",
   "id": "e2a3ba35-bfa7-4df3-8377-cef97d195ede",
   "metadata": {},
   "source": [
    "###\n",
    "In pandas, a DataFrame is a 2-dimensional labeled data structure that can hold data in various formats like lists, dictionaries, or NumPy arrays. It is a table-like data structure with rows and columns, similar to a spreadsheet or SQL table. The DataFrame is a fundamental data structure in pandas, used for data analysis, manipulation, and cleaning tasks.\n",
    "\n",
    "On the other hand, a Series is a one-dimensional labeled array that can hold data in various formats, such as integer, float, string, and so on. It is similar to a column in a DataFrame or a dictionary where each value is assigned a label or an index. Series can be considered as a building block for a DataFrame since a DataFrame can be created by combining multiple Series."
   ]
  },
  {
   "cell_type": "markdown",
   "id": "b58dda16-f02c-4994-94a2-e21ebbd3d759",
   "metadata": {},
   "source": [
    "### example for the DataFrame"
   ]
  },
  {
   "cell_type": "code",
   "execution_count": 4,
   "id": "fcf3b9fe-4c3e-405f-98ee-b3d0f35d1a46",
   "metadata": {},
   "outputs": [
    {
     "name": "stdout",
     "output_type": "stream",
     "text": [
      "     City   Fruit  Sales\n",
      "0   Paris   Apple    100\n",
      "1   Paris  Banana     80\n",
      "2  London   Apple     75\n",
      "3  London  Banana    120\n"
     ]
    }
   ],
   "source": [
    "import pandas as pd\n",
    "\n",
    "data = {\n",
    "    'City': ['Paris', 'Paris', 'London', 'London'],\n",
    "    'Fruit': ['Apple', 'Banana', 'Apple', 'Banana'],\n",
    "    'Sales': [100, 80, 75, 120]\n",
    "}\n",
    "\n",
    "df = pd.DataFrame(data)\n",
    "print(df)\n"
   ]
  },
  {
   "cell_type": "code",
   "execution_count": 5,
   "id": "7f7ff088-2395-4698-9025-6a0808712393",
   "metadata": {},
   "outputs": [
    {
     "name": "stdout",
     "output_type": "stream",
     "text": [
      "0    100\n",
      "1     80\n",
      "2     75\n",
      "3    120\n",
      "Name: Sales, dtype: int64\n"
     ]
    }
   ],
   "source": [
    "# we can also extract the specify dataframes as the series\n",
    "sales_series = df['Sales']\n",
    "print(sales_series)"
   ]
  },
  {
   "cell_type": "markdown",
   "id": "94875d48-e68b-4a1f-812e-b08ad7963e6e",
   "metadata": {},
   "source": [
    "## 5.What are some common functions you can use to manipulate data in a Pandas DataFrame? Can you give an example of when you might use one of these functions?"
   ]
  },
  {
   "cell_type": "markdown",
   "id": "ba1c2225-7679-4c2c-99f7-e6e1b0057374",
   "metadata": {},
   "source": [
    "###\n",
    "Pandas provides many useful functions to manipulate data in a DataFrame. Here are some of the common functions you can use:\n",
    "\n",
    "1. head(): Returns the first n rows of a DataFrame."
   ]
  },
  {
   "cell_type": "code",
   "execution_count": 6,
   "id": "814af003-bde3-4a32-8c60-6596c2ccd41b",
   "metadata": {},
   "outputs": [
    {
     "data": {
      "text/html": [
       "<div>\n",
       "<style scoped>\n",
       "    .dataframe tbody tr th:only-of-type {\n",
       "        vertical-align: middle;\n",
       "    }\n",
       "\n",
       "    .dataframe tbody tr th {\n",
       "        vertical-align: top;\n",
       "    }\n",
       "\n",
       "    .dataframe thead th {\n",
       "        text-align: right;\n",
       "    }\n",
       "</style>\n",
       "<table border=\"1\" class=\"dataframe\">\n",
       "  <thead>\n",
       "    <tr style=\"text-align: right;\">\n",
       "      <th></th>\n",
       "      <th>City</th>\n",
       "      <th>Fruit</th>\n",
       "      <th>Sales</th>\n",
       "    </tr>\n",
       "  </thead>\n",
       "  <tbody>\n",
       "    <tr>\n",
       "      <th>0</th>\n",
       "      <td>Paris</td>\n",
       "      <td>Apple</td>\n",
       "      <td>100</td>\n",
       "    </tr>\n",
       "    <tr>\n",
       "      <th>1</th>\n",
       "      <td>Paris</td>\n",
       "      <td>Banana</td>\n",
       "      <td>80</td>\n",
       "    </tr>\n",
       "    <tr>\n",
       "      <th>2</th>\n",
       "      <td>London</td>\n",
       "      <td>Apple</td>\n",
       "      <td>75</td>\n",
       "    </tr>\n",
       "    <tr>\n",
       "      <th>3</th>\n",
       "      <td>London</td>\n",
       "      <td>Banana</td>\n",
       "      <td>120</td>\n",
       "    </tr>\n",
       "  </tbody>\n",
       "</table>\n",
       "</div>"
      ],
      "text/plain": [
       "     City   Fruit  Sales\n",
       "0   Paris   Apple    100\n",
       "1   Paris  Banana     80\n",
       "2  London   Apple     75\n",
       "3  London  Banana    120"
      ]
     },
     "execution_count": 6,
     "metadata": {},
     "output_type": "execute_result"
    }
   ],
   "source": [
    "df.head(10)"
   ]
  },
  {
   "cell_type": "markdown",
   "id": "541f5798-535e-42b4-9365-689061f343d0",
   "metadata": {},
   "source": [
    "###\n",
    "2. tail(): Returns the last n rows of a DataFrame."
   ]
  },
  {
   "cell_type": "code",
   "execution_count": 7,
   "id": "488fe89f-7b5e-4c7f-a1c6-95c42a3abde3",
   "metadata": {},
   "outputs": [
    {
     "data": {
      "text/html": [
       "<div>\n",
       "<style scoped>\n",
       "    .dataframe tbody tr th:only-of-type {\n",
       "        vertical-align: middle;\n",
       "    }\n",
       "\n",
       "    .dataframe tbody tr th {\n",
       "        vertical-align: top;\n",
       "    }\n",
       "\n",
       "    .dataframe thead th {\n",
       "        text-align: right;\n",
       "    }\n",
       "</style>\n",
       "<table border=\"1\" class=\"dataframe\">\n",
       "  <thead>\n",
       "    <tr style=\"text-align: right;\">\n",
       "      <th></th>\n",
       "      <th>City</th>\n",
       "      <th>Fruit</th>\n",
       "      <th>Sales</th>\n",
       "    </tr>\n",
       "  </thead>\n",
       "  <tbody>\n",
       "    <tr>\n",
       "      <th>0</th>\n",
       "      <td>Paris</td>\n",
       "      <td>Apple</td>\n",
       "      <td>100</td>\n",
       "    </tr>\n",
       "    <tr>\n",
       "      <th>1</th>\n",
       "      <td>Paris</td>\n",
       "      <td>Banana</td>\n",
       "      <td>80</td>\n",
       "    </tr>\n",
       "    <tr>\n",
       "      <th>2</th>\n",
       "      <td>London</td>\n",
       "      <td>Apple</td>\n",
       "      <td>75</td>\n",
       "    </tr>\n",
       "    <tr>\n",
       "      <th>3</th>\n",
       "      <td>London</td>\n",
       "      <td>Banana</td>\n",
       "      <td>120</td>\n",
       "    </tr>\n",
       "  </tbody>\n",
       "</table>\n",
       "</div>"
      ],
      "text/plain": [
       "     City   Fruit  Sales\n",
       "0   Paris   Apple    100\n",
       "1   Paris  Banana     80\n",
       "2  London   Apple     75\n",
       "3  London  Banana    120"
      ]
     },
     "execution_count": 7,
     "metadata": {},
     "output_type": "execute_result"
    }
   ],
   "source": [
    "df.tail(10)"
   ]
  },
  {
   "cell_type": "markdown",
   "id": "dc0ba4fc-6cc2-497e-a985-03086f2f481e",
   "metadata": {},
   "source": [
    "###\n",
    "3. info(): Provides information about the DataFrame, including the number of rows and columns, data types, and memory usage."
   ]
  },
  {
   "cell_type": "code",
   "execution_count": 8,
   "id": "4cf9c535-fcb5-42fb-b39b-242c31c14b10",
   "metadata": {},
   "outputs": [
    {
     "name": "stdout",
     "output_type": "stream",
     "text": [
      "<class 'pandas.core.frame.DataFrame'>\n",
      "RangeIndex: 4 entries, 0 to 3\n",
      "Data columns (total 3 columns):\n",
      " #   Column  Non-Null Count  Dtype \n",
      "---  ------  --------------  ----- \n",
      " 0   City    4 non-null      object\n",
      " 1   Fruit   4 non-null      object\n",
      " 2   Sales   4 non-null      int64 \n",
      "dtypes: int64(1), object(2)\n",
      "memory usage: 224.0+ bytes\n"
     ]
    }
   ],
   "source": [
    "df.info()"
   ]
  },
  {
   "cell_type": "markdown",
   "id": "68049beb-264f-4c31-8f75-7074038e4fab",
   "metadata": {},
   "source": [
    "###\n",
    "4. describe(): Generates descriptive statistics for the DataFrame, including the count, mean, standard deviation, minimum, maximum, and quartile values."
   ]
  },
  {
   "cell_type": "code",
   "execution_count": 9,
   "id": "71a09089-0df1-4134-b2db-72a1df1ca58e",
   "metadata": {},
   "outputs": [
    {
     "data": {
      "text/html": [
       "<div>\n",
       "<style scoped>\n",
       "    .dataframe tbody tr th:only-of-type {\n",
       "        vertical-align: middle;\n",
       "    }\n",
       "\n",
       "    .dataframe tbody tr th {\n",
       "        vertical-align: top;\n",
       "    }\n",
       "\n",
       "    .dataframe thead th {\n",
       "        text-align: right;\n",
       "    }\n",
       "</style>\n",
       "<table border=\"1\" class=\"dataframe\">\n",
       "  <thead>\n",
       "    <tr style=\"text-align: right;\">\n",
       "      <th></th>\n",
       "      <th>Sales</th>\n",
       "    </tr>\n",
       "  </thead>\n",
       "  <tbody>\n",
       "    <tr>\n",
       "      <th>count</th>\n",
       "      <td>4.000000</td>\n",
       "    </tr>\n",
       "    <tr>\n",
       "      <th>mean</th>\n",
       "      <td>93.750000</td>\n",
       "    </tr>\n",
       "    <tr>\n",
       "      <th>std</th>\n",
       "      <td>20.564938</td>\n",
       "    </tr>\n",
       "    <tr>\n",
       "      <th>min</th>\n",
       "      <td>75.000000</td>\n",
       "    </tr>\n",
       "    <tr>\n",
       "      <th>25%</th>\n",
       "      <td>78.750000</td>\n",
       "    </tr>\n",
       "    <tr>\n",
       "      <th>50%</th>\n",
       "      <td>90.000000</td>\n",
       "    </tr>\n",
       "    <tr>\n",
       "      <th>75%</th>\n",
       "      <td>105.000000</td>\n",
       "    </tr>\n",
       "    <tr>\n",
       "      <th>max</th>\n",
       "      <td>120.000000</td>\n",
       "    </tr>\n",
       "  </tbody>\n",
       "</table>\n",
       "</div>"
      ],
      "text/plain": [
       "            Sales\n",
       "count    4.000000\n",
       "mean    93.750000\n",
       "std     20.564938\n",
       "min     75.000000\n",
       "25%     78.750000\n",
       "50%     90.000000\n",
       "75%    105.000000\n",
       "max    120.000000"
      ]
     },
     "execution_count": 9,
     "metadata": {},
     "output_type": "execute_result"
    }
   ],
   "source": [
    "df.describe()"
   ]
  },
  {
   "cell_type": "markdown",
   "id": "bbd4fc41-34c5-4d51-8f3b-0db41d33b915",
   "metadata": {},
   "source": [
    "###\n",
    "5. sort_values(): Sorts the DataFrame by one or more columns."
   ]
  },
  {
   "cell_type": "code",
   "execution_count": 10,
   "id": "e5f0137a-eb39-4bb5-92e3-a2a9e7050a53",
   "metadata": {},
   "outputs": [
    {
     "data": {
      "text/html": [
       "<div>\n",
       "<style scoped>\n",
       "    .dataframe tbody tr th:only-of-type {\n",
       "        vertical-align: middle;\n",
       "    }\n",
       "\n",
       "    .dataframe tbody tr th {\n",
       "        vertical-align: top;\n",
       "    }\n",
       "\n",
       "    .dataframe thead th {\n",
       "        text-align: right;\n",
       "    }\n",
       "</style>\n",
       "<table border=\"1\" class=\"dataframe\">\n",
       "  <thead>\n",
       "    <tr style=\"text-align: right;\">\n",
       "      <th></th>\n",
       "      <th>City</th>\n",
       "      <th>Fruit</th>\n",
       "      <th>Sales</th>\n",
       "    </tr>\n",
       "  </thead>\n",
       "  <tbody>\n",
       "    <tr>\n",
       "      <th>3</th>\n",
       "      <td>London</td>\n",
       "      <td>Banana</td>\n",
       "      <td>120</td>\n",
       "    </tr>\n",
       "    <tr>\n",
       "      <th>0</th>\n",
       "      <td>Paris</td>\n",
       "      <td>Apple</td>\n",
       "      <td>100</td>\n",
       "    </tr>\n",
       "    <tr>\n",
       "      <th>1</th>\n",
       "      <td>Paris</td>\n",
       "      <td>Banana</td>\n",
       "      <td>80</td>\n",
       "    </tr>\n",
       "    <tr>\n",
       "      <th>2</th>\n",
       "      <td>London</td>\n",
       "      <td>Apple</td>\n",
       "      <td>75</td>\n",
       "    </tr>\n",
       "  </tbody>\n",
       "</table>\n",
       "</div>"
      ],
      "text/plain": [
       "     City   Fruit  Sales\n",
       "3  London  Banana    120\n",
       "0   Paris   Apple    100\n",
       "1   Paris  Banana     80\n",
       "2  London   Apple     75"
      ]
     },
     "execution_count": 10,
     "metadata": {},
     "output_type": "execute_result"
    }
   ],
   "source": [
    "df.sort_values('Sales', ascending=False)"
   ]
  },
  {
   "cell_type": "markdown",
   "id": "28b43e73-b9d8-43c8-a1bb-b815d1bd018d",
   "metadata": {},
   "source": [
    "###\n",
    "6. groupby(): Groups the DataFrame by one or more columns and applies an aggregation function to each group."
   ]
  },
  {
   "cell_type": "code",
   "execution_count": 11,
   "id": "b5a0c498-8d18-4841-b9ce-c2eb13ad7c83",
   "metadata": {},
   "outputs": [
    {
     "data": {
      "text/plain": [
       "Fruit\n",
       "Apple     175\n",
       "Banana    200\n",
       "Name: Sales, dtype: int64"
      ]
     },
     "execution_count": 11,
     "metadata": {},
     "output_type": "execute_result"
    }
   ],
   "source": [
    "df.groupby('Fruit')['Sales'].sum()"
   ]
  },
  {
   "cell_type": "markdown",
   "id": "78c1baa3-f32e-42fc-ac4e-ec884275d15d",
   "metadata": {},
   "source": [
    "###\n",
    "7. pivot_table(): Creates a pivot table from the DataFrame."
   ]
  },
  {
   "cell_type": "code",
   "execution_count": 12,
   "id": "88ba9fdb-2929-42b8-a574-8f91d9d653c3",
   "metadata": {},
   "outputs": [
    {
     "data": {
      "text/html": [
       "<div>\n",
       "<style scoped>\n",
       "    .dataframe tbody tr th:only-of-type {\n",
       "        vertical-align: middle;\n",
       "    }\n",
       "\n",
       "    .dataframe tbody tr th {\n",
       "        vertical-align: top;\n",
       "    }\n",
       "\n",
       "    .dataframe thead th {\n",
       "        text-align: right;\n",
       "    }\n",
       "</style>\n",
       "<table border=\"1\" class=\"dataframe\">\n",
       "  <thead>\n",
       "    <tr style=\"text-align: right;\">\n",
       "      <th>Fruit</th>\n",
       "      <th>Apple</th>\n",
       "      <th>Banana</th>\n",
       "    </tr>\n",
       "    <tr>\n",
       "      <th>City</th>\n",
       "      <th></th>\n",
       "      <th></th>\n",
       "    </tr>\n",
       "  </thead>\n",
       "  <tbody>\n",
       "    <tr>\n",
       "      <th>London</th>\n",
       "      <td>75</td>\n",
       "      <td>120</td>\n",
       "    </tr>\n",
       "    <tr>\n",
       "      <th>Paris</th>\n",
       "      <td>100</td>\n",
       "      <td>80</td>\n",
       "    </tr>\n",
       "  </tbody>\n",
       "</table>\n",
       "</div>"
      ],
      "text/plain": [
       "Fruit   Apple  Banana\n",
       "City                 \n",
       "London     75     120\n",
       "Paris     100      80"
      ]
     },
     "execution_count": 12,
     "metadata": {},
     "output_type": "execute_result"
    }
   ],
   "source": [
    "pd.pivot_table(df, index='City', columns='Fruit', values='Sales')"
   ]
  },
  {
   "cell_type": "markdown",
   "id": "d2ae3aaa-2234-43e6-9e7f-5037629fd569",
   "metadata": {},
   "source": [
    "## 6.Which of the following is mutable in nature Series, DataFrame, Panel?"
   ]
  },
  {
   "cell_type": "markdown",
   "id": "d204f43a-6bc5-46c7-8ab5-f3a36a200f5a",
   "metadata": {},
   "source": [
    "###\n",
    "In pandas, both Series and DataFrame are mutable objects, which means that their values can be modified after they are created.\n",
    "\n",
    "On the other hand, Panel is a three-dimensional data structure that was introduced in earlier versions of pandas but has since been deprecated. It has been replaced by the MultiIndex data structure which allows for more flexible handling of higher-dimensional data."
   ]
  },
  {
   "cell_type": "markdown",
   "id": "55e1242f-6b4e-4968-aa1c-5b60c32774fa",
   "metadata": {},
   "source": [
    "## 7.Create a DataFrame using multiple Series. Explain with an example."
   ]
  },
  {
   "cell_type": "code",
   "execution_count": 14,
   "id": "b519acec-a6dd-4aae-93c6-dcdc4dbb3dee",
   "metadata": {},
   "outputs": [
    {
     "name": "stdout",
     "output_type": "stream",
     "text": [
      "     Name  Age  Gender\n",
      "0   Alice   25  Female\n",
      "1     Bob   30    Male\n",
      "2  Claire   27  Female\n"
     ]
    }
   ],
   "source": [
    "import pandas as pd\n",
    "\n",
    "names = pd.Series(['Alice', 'Bob', 'Claire'])\n",
    "ages = pd.Series([25, 30, 27])\n",
    "genders = pd.Series(['Female', 'Male', 'Female'])\n",
    "\n",
    "data = {'Name': names, 'Age': ages, 'Gender': genders}\n",
    "\n",
    "df = pd.DataFrame(data)\n",
    "\n",
    "print(df)"
   ]
  },
  {
   "cell_type": "code",
   "execution_count": null,
   "id": "ffc54ac7-7391-4cdf-9fac-b2e879b275b2",
   "metadata": {},
   "outputs": [],
   "source": []
  }
 ],
 "metadata": {
  "kernelspec": {
   "display_name": "Python 3 (ipykernel)",
   "language": "python",
   "name": "python3"
  },
  "language_info": {
   "codemirror_mode": {
    "name": "ipython",
    "version": 3
   },
   "file_extension": ".py",
   "mimetype": "text/x-python",
   "name": "python",
   "nbconvert_exporter": "python",
   "pygments_lexer": "ipython3",
   "version": "3.10.8"
  }
 },
 "nbformat": 4,
 "nbformat_minor": 5
}
